{
 "cells": [
  {
   "cell_type": "markdown",
   "metadata": {},
   "source": [
    "## <font color = 'red'> **Class** :</font>\n",
    "<font color = \"green\" >A class is a <b>blueprint</b> of the object . which is made up of data and methods </font>\n",
    "- A class is written in pascal case , means every class name shall start with the capital letter.\n",
    "- There are other case wirting like kebab case , snake case , camel case etc."
   ]
  },
  {
   "cell_type": "markdown",
   "metadata": {},
   "source": [
    "## constructor\n",
    "<font color = 'green' > A <b>constructor</b> is a *special* **peace of code** which gets executed as soon as object of class is called or created.</font>"
   ]
  },
  {
   "cell_type": "markdown",
   "metadata": {},
   "source": [
    "## Creating an Atm "
   ]
  },
  {
   "cell_type": "code",
   "execution_count": 45,
   "metadata": {
    "scrolled": true
   },
   "outputs": [],
   "source": [
    "class Atm:\n",
    "    #Constructor\n",
    "    #special /magic/dunder method\n",
    "    \n",
    "    def __init__(self):\n",
    "        self.pin = \"\"\n",
    "        self.balance = 0 # instance variable = It is the variable for which the value of the variable is different for different objects \n",
    "        self.menu()\n",
    "        \n",
    "    def menu(self):\n",
    "        user_input = input(\"\"\"\n",
    "        Hello , how would you like to proceed?\n",
    "        1.Enter 1 to create pin\n",
    "        2.Enter 2 to deposit\n",
    "        3.Enter 3 to window\n",
    "        4.Enter 4 to check balance\n",
    "        5.Enter 5 to exit\n",
    "         \"\"\")\n",
    "        \n",
    "        if user_input =='1':\n",
    "            self.create_pin()   \n",
    "        elif user_input == '2':\n",
    "            self.deposit()\n",
    "        elif user_input == '3':\n",
    "            self.withdraw()\n",
    "        elif user_input == '4':\n",
    "            self.check_balance()\n",
    "        else:\n",
    "            print('byy')\n",
    "    \n",
    "    def create_pin(self):\n",
    "        self.pin = input(\"enter your pin \")\n",
    "        print('Pin set successfully')\n",
    "    \n",
    "    def deposit(self):\n",
    "        temp = input(\"enter your pin \")\n",
    "        if temp == self.pin:\n",
    "            amount = int(input(\"Enter the amount \"))\n",
    "            self.balance = self.balance + amount\n",
    "            print(\"Deposit successful \")\n",
    "        else:\n",
    "            print(\"invalid pin\")\n",
    "        \n",
    "    def withdraw(self):\n",
    "        temp = input(\"Enter your pin \")\n",
    "        if temp == self.pin:\n",
    "            amount = int(input(\"Enter the amount \"))\n",
    "            if amount < self.balance:\n",
    "                self.balance = self.balance - amount\n",
    "                print(\"Transaction successful\")\n",
    "            else:\n",
    "                print(\"Insufficient fund\")\n",
    "                \n",
    "    def check_balance(self):\n",
    "        temp = input(\"Enter your pin \")\n",
    "        if temp == self.pin:\n",
    "            print(self.balance)\n",
    "        else:\n",
    "            print(\"invalid pin\")\n",
    "            "
   ]
  },
  {
   "cell_type": "code",
   "execution_count": 23,
   "metadata": {
    "scrolled": true
   },
   "outputs": [
    {
     "name": "stdout",
     "output_type": "stream",
     "text": [
      "\n",
      "        Hello , how would you like to proceed?\n",
      "        1.Enter 1 to create pin\n",
      "        2.Enter 2 to deposit\n",
      "        3.Enter 3 to window\n",
      "        4.Enter 4 to check balance\n",
      "        5.Enter 5 to exit\n",
      "         1\n",
      "enter your pin 5249\n",
      "Pin set successfully\n"
     ]
    }
   ],
   "source": [
    "s = Atm()"
   ]
  },
  {
   "cell_type": "code",
   "execution_count": 24,
   "metadata": {
    "scrolled": false
   },
   "outputs": [
    {
     "name": "stdout",
     "output_type": "stream",
     "text": [
      "enter your pin 5249\n",
      "Enter the amount 50000\n",
      "Deposit successful \n"
     ]
    }
   ],
   "source": [
    "s.deposit()"
   ]
  },
  {
   "cell_type": "code",
   "execution_count": 27,
   "metadata": {
    "scrolled": true
   },
   "outputs": [
    {
     "name": "stdout",
     "output_type": "stream",
     "text": [
      "enter your pin 5249\n",
      "Enter the amount 50000\n",
      "Deposit successful \n"
     ]
    }
   ],
   "source": [
    "s.deposit()"
   ]
  },
  {
   "cell_type": "code",
   "execution_count": 28,
   "metadata": {
    "scrolled": false
   },
   "outputs": [
    {
     "name": "stdout",
     "output_type": "stream",
     "text": [
      "Enter your pin 5249\n",
      "100000\n"
     ]
    }
   ],
   "source": [
    "s.check_balance()"
   ]
  },
  {
   "cell_type": "code",
   "execution_count": 29,
   "metadata": {
    "scrolled": false
   },
   "outputs": [
    {
     "name": "stdout",
     "output_type": "stream",
     "text": [
      "Enter your pin 5249\n",
      "Enter the amount 50000\n",
      "Transaction successful\n"
     ]
    }
   ],
   "source": [
    "s.withdraw()"
   ]
  },
  {
   "cell_type": "markdown",
   "metadata": {},
   "source": [
    "## Access Modifiers\n",
    "These are used to hide the data variables in the class . For this we use __ sign"
   ]
  },
  {
   "cell_type": "code",
   "execution_count": 2,
   "metadata": {},
   "outputs": [],
   "source": [
    "class Atm:\n",
    "    #Constructor\n",
    "    #special /magic/dunder method\n",
    "    hdfc.balance = [1293493] = 50000\n",
    "    sbi.banalce = [233434] = 10000\n",
    "    \n",
    "    def __init__(self):\n",
    "        self.__pin = \"\"\n",
    "        self.__balance = 0 # instance variable = It is the variable for which the value of the variable is different for different objects \n",
    "        self.menu()\n",
    "        \n",
    "    def menu(self):\n",
    "        user_input = input(\"\"\"\n",
    "        Hello , how would you like to proceed?\n",
    "        1.Enter 1 to create pin\n",
    "        2.Enter 2 to deposit\n",
    "        3.Enter 3 to window\n",
    "        4.Enter 4 to check balance\n",
    "        5.Enter 5 to exit\n",
    "         \"\"\")\n",
    "        \n",
    "        if user_input =='1':\n",
    "            self.create_pin()   \n",
    "        elif user_input == '2':\n",
    "            self.deposit()\n",
    "        elif user_input == '3':\n",
    "            self.withdraw()\n",
    "        elif user_input == '4':\n",
    "            self.check_balance()\n",
    "        else:\n",
    "            print('byy')\n",
    "    \n",
    "    def create_pin(self):\n",
    "        self.__pin = input(\"enter your pin \")\n",
    "        print('Pin set successfully')\n",
    "    \n",
    "    def deposit(self):\n",
    "        temp = input(\"enter your pin \")\n",
    "        if temp == self.__pin:\n",
    "            amount = int(input(\"Enter the amount \"))\n",
    "            self.__balance = self.__balance + amount\n",
    "            print(\"Deposit successful \")\n",
    "        else:\n",
    "            print(\"invalid pin\")\n",
    "        \n",
    "    def withdraw(self):\n",
    "        temp = input(\"Enter your pin \")\n",
    "        if temp == self.__pin:\n",
    "            amount = int(input(\"Enter the amount \"))\n",
    "            if amount < self.__balance:\n",
    "                self.__balance = self.__balance - amount\n",
    "                print(\"Transaction successful\")\n",
    "            else:\n",
    "                print(\"Insufficient fund\")\n",
    "                \n",
    "    def check_balance(self):\n",
    "        temp = input(\"Enter your pin \")\n",
    "        if temp == self.__pin:\n",
    "            print(self.__balance)\n",
    "        else:\n",
    "            print(\"invalid pin\")\n",
    "            "
   ]
  },
  {
   "cell_type": "code",
   "execution_count": 76,
   "metadata": {
    "scrolled": true
   },
   "outputs": [
    {
     "name": "stdout",
     "output_type": "stream",
     "text": [
      "\n",
      "        Hello , how would you like to proceed?\n",
      "        1.Enter 1 to create pin\n",
      "        2.Enter 2 to deposit\n",
      "        3.Enter 3 to window\n",
      "        4.Enter 4 to check balance\n",
      "        5.Enter 5 to exit\n",
      "         1\n",
      "enter your pin 1234\n",
      "Pin set successfully\n"
     ]
    }
   ],
   "source": [
    "icici = Atm()"
   ]
  },
  {
   "cell_type": "code",
   "execution_count": 78,
   "metadata": {},
   "outputs": [],
   "source": [
    "icici.__balance = \"sklfjksdjfk\""
   ]
  },
  {
   "cell_type": "code",
   "execution_count": 79,
   "metadata": {
    "scrolled": true
   },
   "outputs": [
    {
     "name": "stdout",
     "output_type": "stream",
     "text": [
      "enter your pin 1234\n",
      "Enter the amount 50000\n",
      "Deposit successful \n"
     ]
    }
   ],
   "source": [
    "icici.deposit()"
   ]
  },
  {
   "cell_type": "code",
   "execution_count": 80,
   "metadata": {},
   "outputs": [],
   "source": [
    "# Here we won't get error because As soon as we write __pin python converts it into _Atm__pin internally "
   ]
  },
  {
   "cell_type": "code",
   "execution_count": 65,
   "metadata": {},
   "outputs": [],
   "source": [
    "icici._Atm__balance = \"ksdkljfk\"\n"
   ]
  },
  {
   "cell_type": "code",
   "execution_count": 66,
   "metadata": {},
   "outputs": [
    {
     "name": "stdout",
     "output_type": "stream",
     "text": [
      "enter your pin 1234\n",
      "Enter the amount 50000\n"
     ]
    },
    {
     "ename": "TypeError",
     "evalue": "can only concatenate str (not \"int\") to str",
     "output_type": "error",
     "traceback": [
      "\u001b[1;31m---------------------------------------------------------------------------\u001b[0m",
      "\u001b[1;31mTypeError\u001b[0m                                 Traceback (most recent call last)",
      "\u001b[1;32m<ipython-input-66-6ebd31234010>\u001b[0m in \u001b[0;36m<module>\u001b[1;34m\u001b[0m\n\u001b[1;32m----> 1\u001b[1;33m \u001b[0micici\u001b[0m\u001b[1;33m.\u001b[0m\u001b[0mdeposit\u001b[0m\u001b[1;33m(\u001b[0m\u001b[1;33m)\u001b[0m\u001b[1;33m\u001b[0m\u001b[1;33m\u001b[0m\u001b[0m\n\u001b[0m",
      "\u001b[1;32m<ipython-input-61-4de6119120bb>\u001b[0m in \u001b[0;36mdeposit\u001b[1;34m(self)\u001b[0m\n\u001b[0;32m     37\u001b[0m         \u001b[1;32mif\u001b[0m \u001b[0mtemp\u001b[0m \u001b[1;33m==\u001b[0m \u001b[0mself\u001b[0m\u001b[1;33m.\u001b[0m\u001b[0m__pin\u001b[0m\u001b[1;33m:\u001b[0m\u001b[1;33m\u001b[0m\u001b[1;33m\u001b[0m\u001b[0m\n\u001b[0;32m     38\u001b[0m             \u001b[0mamount\u001b[0m \u001b[1;33m=\u001b[0m \u001b[0mint\u001b[0m\u001b[1;33m(\u001b[0m\u001b[0minput\u001b[0m\u001b[1;33m(\u001b[0m\u001b[1;34m\"Enter the amount \"\u001b[0m\u001b[1;33m)\u001b[0m\u001b[1;33m)\u001b[0m\u001b[1;33m\u001b[0m\u001b[1;33m\u001b[0m\u001b[0m\n\u001b[1;32m---> 39\u001b[1;33m             \u001b[0mself\u001b[0m\u001b[1;33m.\u001b[0m\u001b[0m__balance\u001b[0m \u001b[1;33m=\u001b[0m \u001b[0mself\u001b[0m\u001b[1;33m.\u001b[0m\u001b[0m__balance\u001b[0m \u001b[1;33m+\u001b[0m \u001b[0mamount\u001b[0m\u001b[1;33m\u001b[0m\u001b[1;33m\u001b[0m\u001b[0m\n\u001b[0m\u001b[0;32m     40\u001b[0m             \u001b[0mprint\u001b[0m\u001b[1;33m(\u001b[0m\u001b[1;34m\"Deposit successful \"\u001b[0m\u001b[1;33m)\u001b[0m\u001b[1;33m\u001b[0m\u001b[1;33m\u001b[0m\u001b[0m\n\u001b[0;32m     41\u001b[0m         \u001b[1;32melse\u001b[0m\u001b[1;33m:\u001b[0m\u001b[1;33m\u001b[0m\u001b[1;33m\u001b[0m\u001b[0m\n",
      "\u001b[1;31mTypeError\u001b[0m: can only concatenate str (not \"int\") to str"
     ]
    }
   ],
   "source": [
    "icici.deposit()"
   ]
  },
  {
   "cell_type": "code",
   "execution_count": 83,
   "metadata": {},
   "outputs": [],
   "source": [
    "# So  Nothing in Python is truly private"
   ]
  },
  {
   "cell_type": "markdown",
   "metadata": {},
   "source": [
    "## Creating a <font color = Teal>Grocery</font> class"
   ]
  },
  {
   "cell_type": "code",
   "execution_count": 21,
   "metadata": {},
   "outputs": [],
   "source": [
    "class grocery:\n",
    "    def __init__(self):\n",
    "        self.product()\n",
    "        \n",
    "        \n",
    "    def product(self):\n",
    "        a = input(\"\"\"Enter the product number from the given list \n",
    "        1.mango = 100rs\n",
    "        2.banana = 50 rs\n",
    "        3.milk = 70 rs\n",
    "        4.Eggs = 40 rs\n",
    "        \"\"\")\n",
    "        if a==\"1\" :\n",
    "            print(\"pay rs 100\")\n",
    "            self.payment(a)\n",
    "        elif a==\"2\":\n",
    "            print(\"pay rs 50\")\n",
    "            self.payment(a)\n",
    "        elif a==\"3\":\n",
    "            print(\"pay rs 70\")\n",
    "            self.payment(a)\n",
    "        elif a == \"4\":\n",
    "            print(\"pay rs 40\")\n",
    "            self.payment(a)\n",
    "        else:\n",
    "            print(\"invalid input\")\n",
    "            \n",
    "    def payment(self,x):\n",
    "        p = int(input())\n",
    "        if x == \"1\" and p ==100:\n",
    "            print(\"deposit successful\")\n",
    "        elif x == \"2\" and p ==50:\n",
    "            print(\"deposit successful\")\n",
    "        elif x == \"3\" and p ==70:\n",
    "            print(\"deposit successful\")\n",
    "        elif x == \"4\" and p ==40:\n",
    "            print(\"deposit successful\")\n",
    "        else:\n",
    "            print(\"invalid amount entered\")\n",
    "        "
   ]
  },
  {
   "cell_type": "code",
   "execution_count": 22,
   "metadata": {
    "scrolled": true
   },
   "outputs": [
    {
     "name": "stdout",
     "output_type": "stream",
     "text": [
      "Enter the product number from the given list \n",
      "        1.mango = 100rs\n",
      "        2.banana = 50 rs\n",
      "        3.milk = 70 rs\n",
      "        4.Eggs = 40 rs\n",
      "        4\n",
      "pay rs 40\n",
      "40\n",
      "deposit successful\n"
     ]
    }
   ],
   "source": [
    "a = grocery()"
   ]
  },
  {
   "cell_type": "markdown",
   "metadata": {},
   "source": [
    "## Creating a Class <font color = 'red'>  Fraction</font>"
   ]
  },
  {
   "cell_type": "code",
   "execution_count": 27,
   "metadata": {},
   "outputs": [],
   "source": [
    "class Fraction:\n",
    "    def __init__(self,n,d):\n",
    "        self.num = n\n",
    "        self.den =d\n",
    "        \n",
    "    def __str__(self):# it is used with print() function ,when we write print() it search str magic function and return its value\n",
    "        return \"{}/{}\".format(self.num,self.den)\n",
    "        "
   ]
  },
  {
   "cell_type": "code",
   "execution_count": 28,
   "metadata": {},
   "outputs": [],
   "source": [
    "x = Fraction(3,2)\n"
   ]
  },
  {
   "cell_type": "code",
   "execution_count": 29,
   "metadata": {},
   "outputs": [
    {
     "data": {
      "text/plain": [
       "__main__.Fraction"
      ]
     },
     "execution_count": 29,
     "metadata": {},
     "output_type": "execute_result"
    }
   ],
   "source": [
    "type(x)"
   ]
  },
  {
   "cell_type": "code",
   "execution_count": 30,
   "metadata": {},
   "outputs": [
    {
     "name": "stdout",
     "output_type": "stream",
     "text": [
      "3/2\n"
     ]
    }
   ],
   "source": [
    "print(x)"
   ]
  },
  {
   "cell_type": "code",
   "execution_count": 31,
   "metadata": {},
   "outputs": [],
   "source": [
    "y = Fraction(2,3)"
   ]
  },
  {
   "cell_type": "code",
   "execution_count": 32,
   "metadata": {},
   "outputs": [
    {
     "name": "stdout",
     "output_type": "stream",
     "text": [
      "3/2\n"
     ]
    }
   ],
   "source": [
    "print(x)"
   ]
  },
  {
   "cell_type": "code",
   "execution_count": 34,
   "metadata": {},
   "outputs": [
    {
     "ename": "TypeError",
     "evalue": "unsupported operand type(s) for +: 'Fraction' and 'Fraction'",
     "output_type": "error",
     "traceback": [
      "\u001b[1;31m---------------------------------------------------------------------------\u001b[0m",
      "\u001b[1;31mTypeError\u001b[0m                                 Traceback (most recent call last)",
      "\u001b[1;32m<ipython-input-34-a5c393ac61f8>\u001b[0m in \u001b[0;36m<module>\u001b[1;34m\u001b[0m\n\u001b[1;32m----> 1\u001b[1;33m \u001b[0mx\u001b[0m\u001b[1;33m+\u001b[0m\u001b[0my\u001b[0m \u001b[1;31m# we get error because we did not write the sum logic here\u001b[0m\u001b[1;33m\u001b[0m\u001b[1;33m\u001b[0m\u001b[0m\n\u001b[0m",
      "\u001b[1;31mTypeError\u001b[0m: unsupported operand type(s) for +: 'Fraction' and 'Fraction'"
     ]
    }
   ],
   "source": [
    "x+y # we get error because we did not write the sum logic here"
   ]
  },
  {
   "cell_type": "code",
   "execution_count": 42,
   "metadata": {},
   "outputs": [],
   "source": [
    "class Fraction:\n",
    "    def __init__(self,n,d):\n",
    "        self.num = n\n",
    "        self.den =d\n",
    "        \n",
    "    def __str__(self):# it is used with print() function ,when we write print() it search str magic function and return its value\n",
    "        return \"{}/{}\".format(self.num,self.den)\n",
    "    def __add__(self,other):\n",
    "        temp_num = self.num*other.den + self.den*other.num\n",
    "        temp_den = self.den * other.den\n",
    "        return \"{}/{}\".format(temp_num,temp_den)\n",
    "        "
   ]
  },
  {
   "cell_type": "code",
   "execution_count": 43,
   "metadata": {},
   "outputs": [],
   "source": [
    "x = Fraction(2,3)\n",
    "y = Fraction(3,2)"
   ]
  },
  {
   "cell_type": "code",
   "execution_count": 44,
   "metadata": {},
   "outputs": [
    {
     "name": "stdout",
     "output_type": "stream",
     "text": [
      "13/6\n"
     ]
    }
   ],
   "source": [
    "print(x+y)"
   ]
  },
  {
   "cell_type": "markdown",
   "metadata": {},
   "source": [
    " ## <font color = Teal> Reference Variable </font>\n",
    " \n",
    " When we create a <font color =Teal>class</font>  we store it in a variable which is called as **Reference Variable** . so that object created would not lost and we can access it easily with the help of reference variable."
   ]
  },
  {
   "cell_type": "code",
   "execution_count": 3,
   "metadata": {},
   "outputs": [
    {
     "name": "stdout",
     "output_type": "stream",
     "text": [
      "\n",
      "        Hello , how would you like to proceed?\n",
      "        1.Enter 1 to create pin\n",
      "        2.Enter 2 to deposit\n",
      "        3.Enter 3 to window\n",
      "        4.Enter 4 to check balance\n",
      "        5.Enter 5 to exit\n",
      "         1\n",
      "enter your pin 1234\n",
      "Pin set successfully\n"
     ]
    },
    {
     "data": {
      "text/plain": [
       "<__main__.Atm at 0x20a19db96d0>"
      ]
     },
     "execution_count": 3,
     "metadata": {},
     "output_type": "execute_result"
    }
   ],
   "source": [
    "Atm()"
   ]
  },
  {
   "cell_type": "raw",
   "metadata": {},
   "source": [
    "Since we have not created any reference variable here so the object created here is lost now.We can not access it again.\n",
    "so we should give reference to the object created like this:\n",
    "abc = Atm()"
   ]
  },
  {
   "cell_type": "code",
   "execution_count": 9,
   "metadata": {},
   "outputs": [
    {
     "name": "stdout",
     "output_type": "stream",
     "text": [
      "mousam\n"
     ]
    }
   ],
   "source": [
    "class Customer:\n",
    "    def __init__(self,name):\n",
    "        self.name = name\n",
    "c = Customer(\"mousam\")\n",
    "print(c.name)"
   ]
  },
  {
   "cell_type": "code",
   "execution_count": 22,
   "metadata": {},
   "outputs": [
    {
     "name": "stdout",
     "output_type": "stream",
     "text": [
      "hello mousam sir\n"
     ]
    }
   ],
   "source": [
    "class Customer:\n",
    "    def __init__(self,name,gender):\n",
    "        self.name = name \n",
    "        self.gender = gender\n",
    "        \n",
    "def greet(customer):\n",
    "    if customer.gender == \"Male\":\n",
    "        print(\"hello\",customer.name,'sir')\n",
    "    else:\n",
    "        print('hello',customer.name ,'mam')\n",
    "c = Customer(\"mousam\",\"Male\")\n",
    "greet(c)"
   ]
  },
  {
   "cell_type": "code",
   "execution_count": 14,
   "metadata": {},
   "outputs": [],
   "source": [
    "class Point:\n",
    "    def __init__(self,x,y):\n",
    "        self.x_cod = x\n",
    "        self.y_cod = y\n",
    "    def __str__(self): # This magic function gets executed as soon as we call print function.\n",
    "        return '<{},{}>'.format(self.x_cod,self.y_cod)\n",
    "    \n",
    "\n",
    "    \n",
    "    "
   ]
  },
  {
   "cell_type": "code",
   "execution_count": 15,
   "metadata": {},
   "outputs": [],
   "source": [
    "a = Point(1,2)"
   ]
  },
  {
   "cell_type": "code",
   "execution_count": 16,
   "metadata": {},
   "outputs": [
    {
     "data": {
      "text/plain": [
       "<__main__.Point at 0x24f76570be0>"
      ]
     },
     "execution_count": 16,
     "metadata": {},
     "output_type": "execute_result"
    }
   ],
   "source": [
    "a"
   ]
  },
  {
   "cell_type": "code",
   "execution_count": 17,
   "metadata": {},
   "outputs": [
    {
     "name": "stdout",
     "output_type": "stream",
     "text": [
      "<1,2>\n"
     ]
    }
   ],
   "source": [
    "print(a)"
   ]
  },
  {
   "cell_type": "code",
   "execution_count": 29,
   "metadata": {},
   "outputs": [],
   "source": [
    "class Point:\n",
    "    def __init__(self,x,y):\n",
    "        self.x_cod = x\n",
    "        self.y_cod = y\n",
    "    def __str__(self):\n",
    "        return '<{},{}>'.format(self.x_cod,self.y_cod)\n",
    "    def euclidean_distance(self,other):\n",
    "        return (((self.x_cod-other.x_cod)**2 + (self.y_cod - other.y_cod)**2)**0.5)\n",
    "    def distance_from_origin(self):\n",
    "        return self.euclidean_distance(Point(0,0))"
   ]
  },
  {
   "cell_type": "code",
   "execution_count": 30,
   "metadata": {},
   "outputs": [],
   "source": [
    "p1 = Point(1,2)\n",
    "p2 = Point(2,3)"
   ]
  },
  {
   "cell_type": "code",
   "execution_count": 31,
   "metadata": {},
   "outputs": [
    {
     "data": {
      "text/plain": [
       "1.4142135623730951"
      ]
     },
     "execution_count": 31,
     "metadata": {},
     "output_type": "execute_result"
    }
   ],
   "source": [
    "p1.euclidean_distance(p2)"
   ]
  },
  {
   "cell_type": "code",
   "execution_count": 32,
   "metadata": {},
   "outputs": [
    {
     "data": {
      "text/plain": [
       "2.23606797749979"
      ]
     },
     "execution_count": 32,
     "metadata": {},
     "output_type": "execute_result"
    }
   ],
   "source": [
    "p1.distance_from_origin()"
   ]
  },
  {
   "cell_type": "code",
   "execution_count": 33,
   "metadata": {},
   "outputs": [
    {
     "data": {
      "text/plain": [
       "3.605551275463989"
      ]
     },
     "execution_count": 33,
     "metadata": {},
     "output_type": "execute_result"
    }
   ],
   "source": [
    "p2.distance_from_origin()"
   ]
  },
  {
   "cell_type": "markdown",
   "metadata": {},
   "source": [
    "## <font color = Teal> Creating a Line Class </font>"
   ]
  },
  {
   "cell_type": "code",
   "execution_count": 53,
   "metadata": {},
   "outputs": [],
   "source": [
    "class Line:\n",
    "    def __init__(self,A,B,C):\n",
    "        self.A = A\n",
    "        self.B = B\n",
    "        self.C = C\n",
    "    def __str__(self):\n",
    "        return '{}x + {}y + {} = 0'.format(self.A,self.B,self.C)\n",
    "    def point_on_line(self,point):\n",
    "        if self.A*point.x_cod + self.B*point.y_cod + self.C == 0:\n",
    "            return 'point is in the line '\n",
    "        else:\n",
    "            return 'point is not in the line '\n",
    "\n",
    "        "
   ]
  },
  {
   "cell_type": "code",
   "execution_count": 54,
   "metadata": {},
   "outputs": [],
   "source": [
    "l = Line(1,2,3)\n",
    "p1 =Point(2,3)"
   ]
  },
  {
   "cell_type": "code",
   "execution_count": 55,
   "metadata": {
    "scrolled": true
   },
   "outputs": [
    {
     "name": "stdout",
     "output_type": "stream",
     "text": [
      "1x + 2y + 3 = 0\n",
      "<2,3>\n"
     ]
    }
   ],
   "source": [
    "print(l)\n",
    "print(p1)"
   ]
  },
  {
   "cell_type": "code",
   "execution_count": 56,
   "metadata": {
    "scrolled": true
   },
   "outputs": [
    {
     "data": {
      "text/plain": [
       "'point is not in the line '"
      ]
     },
     "execution_count": 56,
     "metadata": {},
     "output_type": "execute_result"
    }
   ],
   "source": [
    "l.point_on_line(p1)"
   ]
  },
  {
   "cell_type": "code",
   "execution_count": 71,
   "metadata": {},
   "outputs": [],
   "source": [
    "l = [1,2,2,3]"
   ]
  },
  {
   "cell_type": "code",
   "execution_count": 75,
   "metadata": {},
   "outputs": [
    {
     "data": {
      "text/plain": [
       "2"
      ]
     },
     "execution_count": 75,
     "metadata": {},
     "output_type": "execute_result"
    }
   ],
   "source": [
    "l.index(3)"
   ]
  },
  {
   "cell_type": "code",
   "execution_count": 77,
   "metadata": {},
   "outputs": [],
   "source": [
    "l[0] = 'mousam'"
   ]
  },
  {
   "cell_type": "code",
   "execution_count": 78,
   "metadata": {},
   "outputs": [
    {
     "data": {
      "text/plain": [
       "['mousam', 2, 3]"
      ]
     },
     "execution_count": 78,
     "metadata": {},
     "output_type": "execute_result"
    }
   ],
   "source": [
    "l"
   ]
  },
  {
   "cell_type": "code",
   "execution_count": 85,
   "metadata": {},
   "outputs": [
    {
     "data": {
      "text/plain": [
       "'MOUSAM'"
      ]
     },
     "execution_count": 85,
     "metadata": {},
     "output_type": "execute_result"
    }
   ],
   "source": [
    "l = 'mousam'\n",
    "l.upper()"
   ]
  },
  {
   "cell_type": "code",
   "execution_count": 143,
   "metadata": {},
   "outputs": [],
   "source": [
    "class Rectangle:\n",
    "    def __init__(self):\n",
    "        self.l = int(input('Enter the value of length '))\n",
    "        self.w = int(input(\"Enter the value of width \"))\n",
    "        self.Perimeter(self.l,self.w)\n",
    "        self.Area(self.l,self.w)\n",
    "    def Perimeter(self,l,w):\n",
    "        p = 2*(self.l+self.w)\n",
    "        return p\n",
    "\n",
    "    def Area(self,l,w):\n",
    "        a = self.l*self.w\n",
    "        return a\n",
    "    \n",
    "    def display(self):\n",
    "        print('length -',self.l,'width-',self.w)\n",
    "        print('Perimeter -',self.Perimeter(self.l,self.w))\n",
    "        print('Area-',self.Area(self.l,self.w))"
   ]
  },
  {
   "cell_type": "code",
   "execution_count": 144,
   "metadata": {},
   "outputs": [
    {
     "name": "stdout",
     "output_type": "stream",
     "text": [
      "Enter the value of length 2\n",
      "Enter the value of width 4\n"
     ]
    }
   ],
   "source": [
    "s = Rectangle()"
   ]
  },
  {
   "cell_type": "code",
   "execution_count": 145,
   "metadata": {},
   "outputs": [
    {
     "name": "stdout",
     "output_type": "stream",
     "text": [
      "length - 2 width- 4\n",
      "Perimeter - 12\n",
      "Area- 8\n"
     ]
    }
   ],
   "source": [
    "s.display()"
   ]
  },
  {
   "cell_type": "code",
   "execution_count": null,
   "metadata": {},
   "outputs": [],
   "source": []
  },
  {
   "cell_type": "code",
   "execution_count": null,
   "metadata": {},
   "outputs": [],
   "source": []
  },
  {
   "cell_type": "code",
   "execution_count": null,
   "metadata": {
    "scrolled": true
   },
   "outputs": [],
   "source": []
  },
  {
   "cell_type": "code",
   "execution_count": null,
   "metadata": {},
   "outputs": [],
   "source": []
  }
 ],
 "metadata": {
  "kernelspec": {
   "display_name": "Python 3",
   "language": "python",
   "name": "python3"
  },
  "language_info": {
   "codemirror_mode": {
    "name": "ipython",
    "version": 3
   },
   "file_extension": ".py",
   "mimetype": "text/x-python",
   "name": "python",
   "nbconvert_exporter": "python",
   "pygments_lexer": "ipython3",
   "version": "3.8.5"
  }
 },
 "nbformat": 4,
 "nbformat_minor": 4
}
