{
 "cells": [
  {
   "cell_type": "markdown",
   "metadata": {},
   "source": [
    "# MOUDULES\n",
    "\n",
    "### A moudle is like a function library which we can use in program after importing the module\n",
    "\n",
    "\n",
    "examples are like \n",
    "math,random,os,time"
   ]
  },
  {
   "cell_type": "code",
   "execution_count": 1,
   "metadata": {},
   "outputs": [
    {
     "name": "stdout",
     "output_type": "stream",
     "text": [
      "\n",
      "Please wait a moment while I gather a list of all available modules...\n",
      "\n"
     ]
    },
    {
     "name": "stderr",
     "output_type": "stream",
     "text": [
      "C:\\Users\\MOUSAM KUMAR\\anaconda3\\lib\\site-packages\\IPython\\kernel\\__init__.py:12: ShimWarning: The `IPython.kernel` package has been deprecated since IPython 4.0.You should import from ipykernel or jupyter_client instead.\n",
      "  warn(\"The `IPython.kernel` package has been deprecated since IPython 4.0.\"\n",
      "C:\\Users\\MOUSAM KUMAR\\anaconda3\\lib\\pkgutil.py:92: MatplotlibDeprecationWarning: \n",
      "The matplotlib.compat module was deprecated in Matplotlib 3.3 and will be removed two minor releases later.\n",
      "  __import__(info.name)\n",
      "C:\\Users\\MOUSAM KUMAR\\anaconda3\\lib\\site-packages\\nltk\\twitter\\__init__.py:21: UserWarning: The twython library has not been installed. Some functionality from the twitter package will not be available.\n",
      "  warnings.warn(\n",
      "C:\\Users\\MOUSAM KUMAR\\anaconda3\\lib\\site-packages\\skimage\\viewer\\utils\\__init__.py:1: UserWarning: Recommended matplotlib backend is `Agg` for full skimage.viewer functionality.\n",
      "  from .core import *\n"
     ]
    },
    {
     "name": "stdout",
     "output_type": "stream",
     "text": [
      "Update LANGUAGE_CODES (inside config/base.py) if a new translation has been added to Spyder\n"
     ]
    },
    {
     "name": "stderr",
     "output_type": "stream",
     "text": [
      "C:\\Users\\MOUSAM KUMAR\\anaconda3\\lib\\site-packages\\qtawesome\\iconic_font.py:311: UserWarning: You need to have a running QApplication to use QtAwesome!\n",
      "  warnings.warn(\"You need to have a running \"\n",
      "C:\\Users\\MOUSAM KUMAR\\anaconda3\\lib\\pkgutil.py:107: VisibleDeprecationWarning: zmq.eventloop.minitornado is deprecated in pyzmq 14.0 and will be removed.\n",
      "    Install tornado itself to use zmq with the tornado IOLoop.\n",
      "    \n",
      "  yield from walk_packages(path, info.name+'.', onerror)\n"
     ]
    },
    {
     "name": "stdout",
     "output_type": "stream",
     "text": [
      "Cython              brain_scipy_signal  lzma                sndhdr\n",
      "IPython             brain_six           mailbox             snowballstemmer\n",
      "OpenSSL             brain_ssl           mailcap             socket\n",
      "PIL                 brain_subprocess    markupsafe          socketserver\n",
      "PyQt5               brain_threading     marshal             socks\n",
      "__future__          brain_typing        math                sockshandler\n",
      "_abc                brain_uuid          matplotlib          sortedcollections\n",
      "_ast                brotli              mccabe              sortedcontainers\n",
      "_asyncio            bs4                 menuinst            soupsieve\n",
      "_bisect             builtins            mimetypes           sphinx\n",
      "_blake2             bz2                 mistune             sphinxcontrib\n",
      "_bootlocale         cProfile            mkl                 spyder\n",
      "_bz2                calendar            mkl_fft             spyder_kernels\n",
      "_cffi_backend       certifi             mkl_random          sqlalchemy\n",
      "_codecs             cffi                mmap                sqlite3\n",
      "_codecs_cn          cgi                 mmapfile            sre_compile\n",
      "_codecs_hk          cgitb               mmsystem            sre_constants\n",
      "_codecs_iso2022     chardet             mock                sre_parse\n",
      "_codecs_jp          chunk               modulefinder        ssl\n",
      "_codecs_kr          click               more_itertools      sspi\n",
      "_codecs_tw          cloudpickle         mpmath              sspicon\n",
      "_collections        clyent              msgpack             stat\n",
      "_collections_abc    cmath               msilib              statistics\n",
      "_compat_pickle      cmd                 msvcrt              statsmodels\n",
      "_compression        code                multipledispatch    storemagic\n",
      "_contextvars        codecs              multiprocessing     string\n",
      "_csv                codeop              nacl                stringprep\n",
      "_ctypes             collections         navigator_updater   struct\n",
      "_ctypes_test        colorama            nbclient            subprocess\n",
      "_datetime           colorsys            nbconvert           sunau\n",
      "_decimal            commctrl            nbformat            symbol\n",
      "_distutils_hack     compileall          nest_asyncio        sympy\n",
      "_dummy_thread       comtypes            netbios             sympyprinting\n",
      "_elementtree        concurrent          netrc               symtable\n",
      "_functools          conda               networkx            sys\n",
      "_hashlib            conda_build         nltk                sysconfig\n",
      "_heapq              conda_env           nntplib             tables\n",
      "_imp                conda_package_handling nose                tabnanny\n",
      "_io                 conda_verify        notebook            tarfile\n",
      "_json               configparser        nt                  tblib\n",
      "_locale             contextlib          ntpath              telnetlib\n",
      "_lsprof             contextlib2         ntsecuritycon       tempfile\n",
      "_lzma               contextvars         nturl2path          terminado\n",
      "_markupbase         copy                numba               test\n",
      "_md5                copyreg             numbers             test_data\n",
      "_msi                crypt               numexpr             test_pycosat\n",
      "_multibytecodec     cryptography        numpy               testpath\n",
      "_multiprocessing    csv                 numpydoc            tests\n",
      "_nsis               ctypes              odbc                textwrap\n",
      "_opcode             curl                olefile             this\n",
      "_operator           curses              opcode              threading\n",
      "_osx_support        cwp                 openpyxl            threadpoolctl\n",
      "_overlapped         cycler              operator            tifffile\n",
      "_pickle             cython              optparse            time\n",
      "_py_abc             cythonmagic         os                  timeit\n",
      "_pydecimal          cytoolz             packaging           timer\n",
      "_pyio               dask                pandas              tkinter\n",
      "_pyrsistent_version dataclasses         pandocfilters       tlz\n",
      "_pytest             datetime            paramiko            token\n",
      "_queue              dateutil            parser              tokenize\n",
      "_random             dbi                 parso               toml\n",
      "_sha1               dbm                 partd               toolz\n",
      "_sha256             dde                 past                tornado\n",
      "_sha3               decimal             path                tqdm\n",
      "_sha512             decorator           pathlib             trace\n",
      "_signal             defusedxml          pathlib2            traceback\n",
      "_sitebuiltins       diff_match_patch    pathtools           tracemalloc\n",
      "_socket             difflib             patsy               traitlets\n",
      "_sqlite3            dis                 pdb                 tty\n",
      "_sre                distributed         pep8                turtle\n",
      "_ssl                distutils           perfmon             turtledemo\n",
      "_stat               doctest             pexpect             types\n",
      "_statistics         docutils            pickle              typing\n",
      "_string             dummy_threading     pickleshare         typing_extensions\n",
      "_strptime           easy_install        pickletools         ujson\n",
      "_struct             email               pip                 unicodecsv\n",
      "_symtable           encodings           pipes               unicodedata\n",
      "_system_path        ensurepip           pkg_resources       unittest\n",
      "_testbuffer         entrypoints         pkginfo             urllib\n",
      "_testcapi           enum                pkgutil             urllib3\n",
      "_testconsole        errno               platform            uu\n",
      "_testimportmultiple et_xmlfile          plistlib            uuid\n",
      "_testinternalcapi   fastcache           pluggy              venv\n",
      "_testmultiphase     faulthandler        ply                 warnings\n",
      "_thread             filecmp             poplib              watchdog\n",
      "_threading_local    fileinput           posixpath           wave\n",
      "_tkinter            filelock            pprint              wcwidth\n",
      "_tracemalloc        flake8              profile             weakref\n",
      "_warnings           flask               prometheus_client   webbrowser\n",
      "_weakref            fnmatch             prompt_toolkit      webencodings\n",
      "_weakrefset         formatter           pstats              werkzeug\n",
      "_win32sysloader     fractions           psutil              wheel\n",
      "_winapi             fsspec              pty                 widgetsnbextension\n",
      "_winxptheme         ftplib              pvectorc            win2kras\n",
      "_xxsubinterpreters  functools           py                  win32api\n",
      "_yaml               future              py_compile          win32clipboard\n",
      "abc                 gc                  pyclbr              win32com\n",
      "adodbapi            genericpath         pycodestyle         win32con\n",
      "afxres              getopt              pycosat             win32console\n",
      "aifc                getpass             pycparser           win32cred\n",
      "alabaster           gettext             pycurl              win32crypt\n",
      "anaconda_navigator  gevent              pydoc               win32cryptcon\n",
      "anaconda_project    glob                pydoc_data          win32ctypes\n",
      "antigravity         glob2               pydocstyle          win32event\n",
      "argh                greenlet            pyexpat             win32evtlog\n",
      "argon2              gzip                pyflakes            win32evtlogutil\n",
      "argparse            h5py                pygments            win32file\n",
      "array               hashlib             pylab               win32gui\n",
      "asn1crypto          heapdict            pylint              win32gui_struct\n",
      "ast                 heapq               pyls                win32help\n",
      "astroid             hmac                pyls_jsonrpc        win32inet\n",
      "astropy             html                pyodbc              win32inetcon\n",
      "async_generator     html5lib            pyparsing           win32job\n",
      "asynchat            http                pyreadline          win32lz\n",
      "asyncio             idlelib             pyrsistent          win32net\n",
      "asyncore            idna                pytest              win32netcon\n",
      "atexit              imageio             pythoncom           win32pdh\n",
      "atomicwrites        imagesize           pytz                win32pdhquery\n"
     ]
    },
    {
     "name": "stdout",
     "output_type": "stream",
     "text": [
      "attr                imaplib             pywin               win32pdhutil\n",
      "audioop             imghdr              pywin32_bootstrap   win32pipe\n",
      "autopep8            imp                 pywin32_testutil    win32print\n",
      "autoreload          importlib           pywintypes          win32process\n",
      "babel               importlib_metadata  pywt                win32profile\n",
      "backcall            iniconfig           pyximport           win32ras\n",
      "backports           inspect             qdarkstyle          win32rcparser\n",
      "base64              intervaltree        qtawesome           win32security\n",
      "bcrypt              io                  qtconsole           win32service\n",
      "bdb                 ipaddress           qtpy                win32serviceutil\n",
      "binascii            ipykernel           queue               win32timezone\n",
      "binhex              ipykernel_launcher  quopri              win32trace\n",
      "binstar_client      ipython_genutils    random              win32traceutil\n",
      "bisect              ipywidgets          rasutil             win32transaction\n",
      "bitarray            isapi               re                  win32ts\n",
      "bkcharts            isort               readline            win32ui\n",
      "bleach              isympy              regcheck            win32uiole\n",
      "bokeh               itertools           regex               win32verstamp\n",
      "boto                itsdangerous        regutil             win32wnet\n",
      "bottleneck          jdcal               reprlib             win_inet_pton\n",
      "brain_argparse      jedi                requests            win_unicode_console\n",
      "brain_attrs         jinja2              rlcompleter         wincertstore\n",
      "brain_boto3         joblib              rmagic              winerror\n",
      "brain_builtin_inference jovian              rope                winioctlcon\n",
      "brain_collections   json                rtree               winnt\n",
      "brain_crypt         json5               ruamel_yaml         winperf\n",
      "brain_curses        jsonschema          run                 winpty\n",
      "brain_dataclasses   jupyter             runpy               winreg\n",
      "brain_dateutil      jupyter_client      sched               winsound\n",
      "brain_fstrings      jupyter_console     scipy               winxpgui\n",
      "brain_functools     jupyter_contrib_core scripts             winxptheme\n",
      "brain_gi            jupyter_contrib_nbextensions seaborn             wrapt\n",
      "brain_hashlib       jupyter_core        secrets             wsgiref\n",
      "brain_http          jupyter_highlight_selected_word select              xdrlib\n",
      "brain_io            jupyter_nbextensions_configurator selectors           xlrd\n",
      "brain_mechanize     jupyterlab          send2trash          xlsxwriter\n",
      "brain_multiprocessing jupyterlab_pygments servicemanager      xlwings\n",
      "brain_namedtuple_enum jupyterlab_server   setuptools          xlwt\n",
      "brain_nose          keyring             shelve              xml\n",
      "brain_numpy_core_fromnumeric keyword             shlex               xmlrpc\n",
      "brain_numpy_core_function_base kiwisolver          shutil              xmltodict\n",
      "brain_numpy_core_multiarray latex_envs          signal              xxsubtype\n",
      "brain_numpy_core_numeric lazy_object_proxy   simplegeneric       yaml\n",
      "brain_numpy_core_numerictypes lib2to3             singledispatch      yapf\n",
      "brain_numpy_core_umath libarchive          singledispatch_helpers yapftests\n",
      "brain_numpy_ndarray libfuturize         sip                 zict\n",
      "brain_numpy_random_mtrand libpasteurize       sipconfig           zipapp\n",
      "brain_numpy_utils   lief                sipdistutils        zipfile\n",
      "brain_pkg_resources linecache           site                zipimport\n",
      "brain_pytest        llvmlite            six                 zipp\n",
      "brain_qt            locale              skimage             zlib\n",
      "brain_random        locket              sklearn             zmq\n",
      "brain_re            logging             smtpd               zope\n",
      "brain_responses     lxml                smtplib             \n",
      "\n",
      "Enter any module name to get more help.  Or, type \"modules spam\" to search\n",
      "for modules whose name or summary contain the string \"spam\".\n",
      "\n"
     ]
    }
   ],
   "source": [
    "help('modules')"
   ]
  },
  {
   "cell_type": "code",
   "execution_count": 2,
   "metadata": {},
   "outputs": [],
   "source": [
    "# include<stdio.h>\n",
    "import math"
   ]
  },
  {
   "cell_type": "code",
   "execution_count": 3,
   "metadata": {},
   "outputs": [
    {
     "data": {
      "text/plain": [
       "3.141592653589793"
      ]
     },
     "execution_count": 3,
     "metadata": {},
     "output_type": "execute_result"
    }
   ],
   "source": [
    "math.pi"
   ]
  },
  {
   "cell_type": "code",
   "execution_count": 4,
   "metadata": {},
   "outputs": [
    {
     "data": {
      "text/plain": [
       "nan"
      ]
     },
     "execution_count": 4,
     "metadata": {},
     "output_type": "execute_result"
    }
   ],
   "source": [
    "math.nan"
   ]
  },
  {
   "cell_type": "code",
   "execution_count": 5,
   "metadata": {},
   "outputs": [
    {
     "data": {
      "text/plain": [
       "6"
      ]
     },
     "execution_count": 5,
     "metadata": {},
     "output_type": "execute_result"
    }
   ],
   "source": [
    "math.floor(6.9)"
   ]
  },
  {
   "cell_type": "code",
   "execution_count": 6,
   "metadata": {},
   "outputs": [
    {
     "data": {
      "text/plain": [
       "10.0"
      ]
     },
     "execution_count": 6,
     "metadata": {},
     "output_type": "execute_result"
    }
   ],
   "source": [
    "math.sqrt(100)"
   ]
  },
  {
   "cell_type": "code",
   "execution_count": 7,
   "metadata": {},
   "outputs": [],
   "source": [
    "import random"
   ]
  },
  {
   "cell_type": "code",
   "execution_count": 8,
   "metadata": {},
   "outputs": [
    {
     "data": {
      "text/plain": [
       "93"
      ]
     },
     "execution_count": 8,
     "metadata": {},
     "output_type": "execute_result"
    }
   ],
   "source": [
    "random.randint(1,100)"
   ]
  },
  {
   "cell_type": "code",
   "execution_count": 11,
   "metadata": {},
   "outputs": [
    {
     "data": {
      "text/plain": [
       "[2, 5, 4, 1, 3]"
      ]
     },
     "execution_count": 11,
     "metadata": {},
     "output_type": "execute_result"
    }
   ],
   "source": [
    "a = [1,2,3,4,5]\n",
    "random.shuffle(a)  # shuffle all the elements\n",
    "a"
   ]
  },
  {
   "cell_type": "code",
   "execution_count": 12,
   "metadata": {},
   "outputs": [],
   "source": [
    " import time"
   ]
  },
  {
   "cell_type": "code",
   "execution_count": 16,
   "metadata": {},
   "outputs": [
    {
     "data": {
      "text/plain": [
       "1674026242.8285718"
      ]
     },
     "execution_count": 16,
     "metadata": {},
     "output_type": "execute_result"
    }
   ],
   "source": [
    "time.time()"
   ]
  },
  {
   "cell_type": "code",
   "execution_count": 17,
   "metadata": {},
   "outputs": [
    {
     "data": {
      "text/plain": [
       "'Wed Jan 18 12:47:35 2023'"
      ]
     },
     "execution_count": 17,
     "metadata": {},
     "output_type": "execute_result"
    }
   ],
   "source": [
    "time.ctime()"
   ]
  },
  {
   "cell_type": "code",
   "execution_count": 21,
   "metadata": {},
   "outputs": [
    {
     "name": "stdout",
     "output_type": "stream",
     "text": [
      "hello\n",
      "world\n"
     ]
    }
   ],
   "source": [
    "print('hello')\n",
    "time.sleep(2) # delayed code run by 2 second\n",
    "print('world')"
   ]
  },
  {
   "cell_type": "code",
   "execution_count": 22,
   "metadata": {},
   "outputs": [],
   "source": [
    "import os"
   ]
  },
  {
   "cell_type": "code",
   "execution_count": 23,
   "metadata": {},
   "outputs": [
    {
     "data": {
      "text/plain": [
       "'C:\\\\Users\\\\MOUSAM KUMAR\\\\python baisc programming 2023'"
      ]
     },
     "execution_count": 23,
     "metadata": {},
     "output_type": "execute_result"
    }
   ],
   "source": [
    "os.getcwd()"
   ]
  },
  {
   "cell_type": "code",
   "execution_count": 24,
   "metadata": {},
   "outputs": [
    {
     "data": {
      "text/plain": [
       "['.ipynb_checkpoints',\n",
       " '.jovianrc',\n",
       " 'built in function.ipynb',\n",
       " 'BUILT IN MODULES.ipynb']"
      ]
     },
     "execution_count": 24,
     "metadata": {},
     "output_type": "execute_result"
    }
   ],
   "source": [
    "os.listdir()"
   ]
  },
  {
   "cell_type": "code",
   "execution_count": null,
   "metadata": {},
   "outputs": [],
   "source": []
  }
 ],
 "metadata": {
  "kernelspec": {
   "display_name": "Python 3",
   "language": "python",
   "name": "python3"
  },
  "language_info": {
   "codemirror_mode": {
    "name": "ipython",
    "version": 3
   },
   "file_extension": ".py",
   "mimetype": "text/x-python",
   "name": "python",
   "nbconvert_exporter": "python",
   "pygments_lexer": "ipython3",
   "version": "3.8.5"
  }
 },
 "nbformat": 4,
 "nbformat_minor": 4
}
